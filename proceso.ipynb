{
 "cells": [
  {
   "cell_type": "markdown",
   "metadata": {},
   "source": [
    "# Aprendiendo Django\n",
    "\n",
    "## Fuentes\n",
    "https://realpython.com/get-started-with-django-1/  \n",
    "https://www.youtube.com/watch?v=EEiqGjCNLRs\n",
    "\n",
    "\n",
    "## Preparar el entorno virtual\n",
    "Se recomienda trabajar con un entorno virtual, por lo que haríamos un `.venv`:  \n",
    "```bash\n",
    "python -m venv .venv --upgrade-deps\n",
    ".venv/Scripts/activate\n",
    "\n",
    "pip install Django\n",
    "```\n",
    "\n",
    "Aunque también es recomendable crear previamente un `requirements.txt` y hacer un `pip install -r requirements.txt`.\n",
    "\n",
    "## Empezar un proyecto\n",
    "ℹ️ Tanto para el nombre de proyecto como para el de las apps he comprobado que existen ciertas limitaciones. La primera es no usar guiones para separar. Mejor todo junto. La segunda, en el caso de las aplicaciones, es que el nombre no debería coincidir con el de un módulo de Python, ya que podría crear conflictos. \"portfolio\", por ejemplo, no es un nombre válido.  \n",
    "⚠️ Tampoco se deben cambiar los nombres una vez los creemos, ya que está todo personalizado y pueden salir mal varias cosas.  \n",
    "\n",
    "Se crea el proyecto con el comando:  \n",
    "```bash\n",
    "django-admin startproject <NAMEPROJECT> .\n",
    "```\n",
    "\n",
    "\" ⚠️ Don’t forget to add the dot (.) at the end of the command above. The dot prevents Django from creating a nested project directory for your portfolio project. Otherwise, you’d end up with a personal_portfolio/ folder that contains a personal_portfolio/ subdirectory.\n",
    "\n",
    "\n",
    "Comprobamos que todo funciona corriendo el servidor:  \n",
    "```bash\n",
    "cd <NAMEPROJECT>\n",
    "python manage.py runserver\n",
    "```\n",
    "\n",
    "Por defecto podremos abrir el servidor en http://127.0.0.1:8000/, pero podemos cambiar el puerto si lo añadimos al comando después de `runserver`.  \n",
    "\n",
    "### Añadir aplicación\n",
    "Lo siguiente es crear una app de django. Para seguir, tenemos que parar el server con CNTRL+C y escribimos:  \n",
    "```bash\n",
    "python manage.py startapp <NAMEAPP>\n",
    "```\n",
    "\n",
    "Después de esto, hay que instalar la app en el proyecto (en algún ejemplo no hacía falta, pero vamos a hacerlo bien, ¿verdad?). En el archivo `settings.py` del proyecto, la añadimos a la constante INSTALLED_APPS:"
   ]
  },
  {
   "cell_type": "code",
   "execution_count": null,
   "metadata": {},
   "outputs": [],
   "source": [
    "# personal_portfolio/settings.py\n",
    "\n",
    "# ...\n",
    "\n",
    "INSTALLED_APPS = [\n",
    "    \"nameapp.apps.NameappConfig\",  # según el nombre de la app, claro\n",
    "    \"django.contrib.admin\",\n",
    "    \"django.contrib.auth\",\n",
    "    \"django.contrib.contenttypes\",\n",
    "    \"django.contrib.sessions\",\n",
    "    \"django.contrib.messages\",\n",
    "    \"django.contrib.staticfiles\",\n",
    "]\n",
    "\n",
    "# ..."
   ]
  },
  {
   "cell_type": "markdown",
   "metadata": {},
   "source": [
    "En efecto, en la carpeta de la app (\"nameapp\" o la que sea) tenemos el archivo apps.py y, dentro, la clase `NameappConfig` (o el nombre que tenga).  \n",
    "\n",
    "## Crear una Vista\n",
    "Dentro del directorio de la app, abrimos `views.py` y añadiremos la petición para una página HTML que podemos crear antes o después:"
   ]
  },
  {
   "cell_type": "code",
   "execution_count": null,
   "metadata": {},
   "outputs": [],
   "source": [
    "# <NAMEAPP>/views.py\n",
    "\n",
    "from django.shortcuts import render\n",
    "\n",
    "\n",
    "# Create your views here.\n",
    "def home(request):\n",
    "    return render(request, \"nameapp/home.html\", {})"
   ]
  },
  {
   "cell_type": "markdown",
   "metadata": {},
   "source": [
    "Primero va un `HttpRequest`, luego un `template_name`. La llave de diccionario al final es el `context:Mapping`. Usa como parámetros variables que establecemos por ejemplo al buscar dentro de una db y las pasamos para que la plantilla html pueda renderizarlos como etiquetas.\n",
    "\n",
    "\n",
    "\n",
    "### Añadir plantillas\n",
    "Ahora creamos una carpeta llamada `templates` dentro de nuestra app. Se aconseja ponerle después OTRA VEZ el nombre de la app. Por ejemplo, la ruta final sería `nameapp/templates/nameapp`.\n",
    "\n",
    "Podemos crear una página HTML (en el ejemplo tiene el nombre \"home\", en otro era \"index\", etc.) en esta carpeta por cualquier método. Por ejemplo, un `echo loren ipsum > index.html`, que será una página que únicamente contendrá el texto \"loren ipsum\". En el tutorial de Real Python dice que pongamos lo siguiente:  \n",
    "\n",
    "```html\n",
    "<!-- pages/templates/pages/home.html -->\n",
    "\n",
    "<h1>Hello, World!</h1>\n",
    "```  \n",
    "\n",
    "⚠️ Mejor crear este archivo de otra forma o, al menos, asegurarnos de que tiene codificación UTF-8.  \n",
    "\n",
    "\n",
    "### Añadir una Ruta\n",
    "En el archivo `urls.py` dentro del directorio del proyecto, vamos a modificar lo siguiente:"
   ]
  },
  {
   "cell_type": "code",
   "execution_count": null,
   "metadata": {},
   "outputs": [],
   "source": [
    "# <NAMEPROJECT>/urls.py\n",
    "\n",
    "from django.contrib import admin\n",
    "from django.urls import path\n",
    "\n",
    "\n",
    "urlpatterns = [\n",
    "\n",
    "    path(\"admin/\", admin.site.urls),\n",
    "\n",
    "]"
   ]
  },
  {
   "cell_type": "markdown",
   "metadata": {},
   "source": [
    "⬇️⬇️⬇️"
   ]
  },
  {
   "cell_type": "code",
   "execution_count": null,
   "metadata": {},
   "outputs": [],
   "source": [
    "# <NAMEPROJECT>/urls.py\n",
    "\n",
    "from django.contrib import admin\n",
    "from django.urls import path, include\n",
    "\n",
    "\n",
    "urlpatterns = [\n",
    "    path(\"admin/\", admin.site.urls),\n",
    "    path(\"\", include(\"nameapp.urls\")),\n",
    "]"
   ]
  },
  {
   "cell_type": "markdown",
   "metadata": {},
   "source": [
    "Pero `nameapp.urls` aún no existe, así que lo creamos y añadimos las rutas. Con Real Python: "
   ]
  },
  {
   "cell_type": "code",
   "execution_count": null,
   "metadata": {},
   "outputs": [],
   "source": [
    "# pages/urls.py\n",
    "\n",
    "from django.urls import path\n",
    "from pages import views\n",
    "\n",
    "urlpatterns = [\n",
    "    path(\"\", views.home, name=\"home\"),\n",
    "]"
   ]
  },
  {
   "cell_type": "markdown",
   "metadata": {},
   "source": [
    "Con Python Simplified (Marie):"
   ]
  },
  {
   "cell_type": "code",
   "execution_count": null,
   "metadata": {},
   "outputs": [],
   "source": [
    "from django.urls import path\n",
    "from . import views\n",
    "\n",
    "urlpatterns = [path(\"myview/\", views.myview)]"
   ]
  },
  {
   "cell_type": "markdown",
   "metadata": {},
   "source": [
    "## Añadir Bootstrap (opcional)\n",
    "Antes de empezar, habría que crear la carpeta de plantillas madre, de la que beberán los demás. En la carpeta raíz (no la del proyecto), crear `templates` y el archivo `templates/base.html`. Dentro, añadimos lo siguiente:\n",
    "\n",
    "```html\n",
    "<!-- templates/base.html -->\n",
    "\n",
    "<!DOCTYPE html>\n",
    "<html lang=\"en\">\n",
    "<head>\n",
    "    <meta charset=\"utf-8\">\n",
    "    <title>{% block title %}My Personal Portfolio{% endblock title %}</title>\n",
    "    <link\n",
    "        href=\"https://cdn.jsdelivr.net/npm/bootstrap@5.3.1/dist/css/bootstrap.min.css\"\n",
    "        rel=\"stylesheet\"\n",
    "    >\n",
    "</head>\n",
    "<body class=\"container\">\n",
    "{% block page_content %}{% endblock page_content %}\n",
    "</body>\n",
    "</html>\n",
    "```\n",
    "Y retocamos el archivo `home.html`:\n",
    "\n",
    "```html\n",
    "<!-- pages/templates/pages/home.html -->\n",
    "\n",
    "{% extends \"base.html\" %}\n",
    "\n",
    "{% block page_content %}\n",
    "    <h1>Hello, World!</h1>\n",
    "{% endblock page_content %}\n",
    "```\n"
   ]
  },
  {
   "cell_type": "markdown",
   "metadata": {},
   "source": [
    "Para que Django tenga conocimiento de que la página base.html existe, hay que ir a la carpeta del proyecto y entrar en `settings.py` para establecer la dirección en la constante `TEMPLATES`, y dentro de la lista vacía que es el campo de la clave `DIRS`, hacer un join de `BASE_DIR` y la carpeta donde se encuentra templates.  \n",
    "\n",
    "\" Before you can see the inheritance and the new styled application in action, you need to tell your Django example project that base.html exists. The default settings register templates/ directories in each app, but not in the root directory itself. In personal_portfolio/settings.py, update TEMPLATES:"
   ]
  },
  {
   "cell_type": "code",
   "execution_count": null,
   "metadata": {},
   "outputs": [],
   "source": [
    "# personal_portfolio/settings.py\n",
    "\n",
    "# ...\n",
    "\n",
    "TEMPLATES = [\n",
    "    {\n",
    "        \"BACKEND\": \"django.template.backends.django.DjangoTemplates\",\n",
    "        \"DIRS\": [\n",
    "            BASE_DIR / \"templates/\",\n",
    "        ],\n",
    "        \"APP_DIRS\": True,\n",
    "        \"OPTIONS\": {\n",
    "            \"context_processors\": [\n",
    "                \"django.template.context_processors.debug\",\n",
    "                \"django.template.context_processors.request\",\n",
    "                \"django.contrib.auth.context_processors.auth\",\n",
    "                \"django.contrib.messages.context_processors.messages\",\n",
    "            ]\n",
    "        },\n",
    "    }\n",
    "]\n",
    "\n",
    "# ..."
   ]
  },
  {
   "cell_type": "markdown",
   "metadata": {},
   "source": [
    "Gracias al módulo `pathlib`, hace el join solo sin necesidad de aplicar un `Path.joinpath(BASE_DIR, \"templates/\")`."
   ]
  },
  {
   "cell_type": "markdown",
   "metadata": {},
   "source": [
    "# Lista de comandos útiles\n",
    "\n",
    "```\n",
    "django-admin startproject <NAMEPROJECT> .\n",
    "\n",
    "python manage.py runserver (<PORT>)\n",
    "python manage.py startapp <NAMEAPP>\n",
    "python manage.py shell\n",
    "python manage.py makemigrations (<NAMEAPP>) ❓\n",
    "python manage.py migrate (<NAMEAPP>)\n",
    "python manage.py createsuperuser\n",
    "\n",
    "```"
   ]
  },
  {
   "cell_type": "markdown",
   "metadata": {},
   "source": [
    "# Por hacer\n",
    "Enlaces (por ejemplo \"proyectos\" no funciona en lugar de \"proyectos/\")\n",
    "Modificar los textos de \"proyectos\". Están los originales y hay cosas que ya no cuadran. \n",
    "Crear un mapeador o algo así. "
   ]
  }
 ],
 "metadata": {
  "language_info": {
   "name": "python"
  }
 },
 "nbformat": 4,
 "nbformat_minor": 2
}
